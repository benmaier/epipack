{
 "cells": [
  {
   "cell_type": "code",
   "execution_count": 1,
   "metadata": {},
   "outputs": [],
   "source": [
    "from epipack import SymbolicEpiModel, EpiModel, StochasticEpiModel\n",
    "import sympy as sy \n",
    "import numpy as np\n",
    "%matplotlib widget"
   ]
  },
  {
   "cell_type": "code",
   "execution_count": 2,
   "metadata": {},
   "outputs": [],
   "source": [
    "%matplotlib widget"
   ]
  },
  {
   "cell_type": "code",
   "execution_count": 3,
   "metadata": {},
   "outputs": [],
   "source": [
    "S, I, R, eta, rho, omega = sy.symbols(\"S I R eta rho omega\")"
   ]
  },
  {
   "cell_type": "code",
   "execution_count": 4,
   "metadata": {},
   "outputs": [
    {
     "data": {
      "text/plain": [
       "<epipack.symbolic_epi_models.SymbolicEpiModel at 0x15c684880>"
      ]
     },
     "execution_count": 4,
     "metadata": {},
     "output_type": "execute_result"
    }
   ],
   "source": [
    "SIRS = SymbolicEpiModel([S,I,R])\n",
    "\n",
    "SIRS.set_processes([\n",
    "    #### transmission process ####\n",
    "    # S + I (eta)-> I + I\n",
    "    (S, I, eta, I, I),\n",
    "    \n",
    "    #### transition processes ####\n",
    "    # I (rho)-> R\n",
    "    # R (omega)-> S\n",
    "    (I, rho, R),\n",
    "    (R, omega, S),\n",
    "\n",
    "])"
   ]
  },
  {
   "cell_type": "code",
   "execution_count": 5,
   "metadata": {
    "scrolled": true
   },
   "outputs": [
    {
     "data": {
      "text/plain": [
       "[Eq(Derivative(S, t), -I*S*eta + R*omega),\n",
       " Eq(Derivative(I, t), I*(S*eta - rho)),\n",
       " Eq(Derivative(R, t), I*rho - R*omega)]"
      ]
     },
     "execution_count": 5,
     "metadata": {},
     "output_type": "execute_result"
    }
   ],
   "source": [
    "SIRS.ODEs()"
   ]
  },
  {
   "cell_type": "code",
   "execution_count": 6,
   "metadata": {
    "scrolled": true
   },
   "outputs": [
    {
     "data": {
      "text/latex": [
       "$\\displaystyle \\frac{d}{d t} S = - I S \\eta + R \\omega$"
      ],
      "text/plain": [
       "<IPython.core.display.Math object>"
      ]
     },
     "metadata": {},
     "output_type": "display_data"
    },
    {
     "data": {
      "text/latex": [
       "$\\displaystyle \\frac{d}{d t} I = I \\left(S \\eta - \\rho\\right)$"
      ],
      "text/plain": [
       "<IPython.core.display.Math object>"
      ]
     },
     "metadata": {},
     "output_type": "display_data"
    },
    {
     "data": {
      "text/latex": [
       "$\\displaystyle \\frac{d}{d t} R = I \\rho - R \\omega$"
      ],
      "text/plain": [
       "<IPython.core.display.Math object>"
      ]
     },
     "metadata": {},
     "output_type": "display_data"
    }
   ],
   "source": [
    "SIRS.ODEs_jupyter()"
   ]
  },
  {
   "cell_type": "code",
   "execution_count": 7,
   "metadata": {},
   "outputs": [
    {
     "data": {
      "text/latex": [
       "$\\displaystyle \\left\\{\\left( S, \\  0, \\  0\\right), \\left( \\frac{\\rho}{\\eta}, \\  \\frac{R \\omega}{\\rho}, \\  R\\right)\\right\\}$"
      ],
      "text/plain": [
       "FiniteSet((S, 0, 0), (rho/eta, R*omega/rho, R))"
      ]
     },
     "execution_count": 7,
     "metadata": {},
     "output_type": "execute_result"
    }
   ],
   "source": [
    "SIRS.find_fixed_points()"
   ]
  },
  {
   "cell_type": "code",
   "execution_count": 8,
   "metadata": {},
   "outputs": [
    {
     "data": {
      "text/latex": [
       "$\\displaystyle \\left[\\begin{matrix}- I \\eta & - S \\eta & \\omega\\\\I \\eta & S \\eta - \\rho & 0\\\\0 & \\rho & - \\omega\\end{matrix}\\right]$"
      ],
      "text/plain": [
       "Matrix([\n",
       "[-I*eta,      -S*eta,  omega],\n",
       "[ I*eta, S*eta - rho,      0],\n",
       "[     0,         rho, -omega]])"
      ]
     },
     "execution_count": 8,
     "metadata": {},
     "output_type": "execute_result"
    }
   ],
   "source": [
    "SIRS.jacobian()"
   ]
  },
  {
   "cell_type": "code",
   "execution_count": 9,
   "metadata": {},
   "outputs": [
    {
     "data": {
      "text/plain": [
       "{eta - rho: 1, -omega: 1, 0: 1}"
      ]
     },
     "execution_count": 9,
     "metadata": {},
     "output_type": "execute_result"
    }
   ],
   "source": [
    "SIRS.get_eigenvalues_at_disease_free_state()"
   ]
  },
  {
   "cell_type": "code",
   "execution_count": 10,
   "metadata": {},
   "outputs": [
    {
     "data": {
      "text/plain": [
       "<epipack.numeric_epi_models.EpiModel at 0x106990f40>"
      ]
     },
     "execution_count": 10,
     "metadata": {},
     "output_type": "execute_result"
    }
   ],
   "source": [
    "S, I, R = list(\"SIR\")\n",
    "R0 = 2.5\n",
    "rho = recovery_rate = 1 # let's say 1/days\n",
    "eta = infection_rate = R0 * recovery_rate\n",
    "omega = 1/14 # in units of 1/days\n",
    "\n",
    "SIRS = EpiModel([S,I,R])\n",
    "\n",
    "SIRS.set_processes([\n",
    "    #### transmission process ####\n",
    "    # S + I (eta)-> I + I\n",
    "    (S, I, eta, I, I),\n",
    "    \n",
    "    #### transition processes ####\n",
    "    # I (rho)-> R\n",
    "    # R (omega)-> S\n",
    "    (I, rho, R),\n",
    "    (R, omega, S),\n",
    "\n",
    "])\n",
    "\n",
    "SIRS.set_initial_conditions({S:1-0.01, I:0.01})"
   ]
  },
  {
   "cell_type": "code",
   "execution_count": 11,
   "metadata": {},
   "outputs": [],
   "source": [
    "t = np.linspace(0,40,1000) \n",
    "result = SIRS.integrate(t)"
   ]
  },
  {
   "cell_type": "code",
   "execution_count": 12,
   "metadata": {
    "scrolled": false
   },
   "outputs": [
    {
     "data": {
      "application/vnd.jupyter.widget-view+json": {
       "model_id": "38368fec3e8c4385903a6d98ec75fb80",
       "version_major": 2,
       "version_minor": 0
      },
      "text/plain": [
       "Canvas(toolbar=Toolbar(toolitems=[('Home', 'Reset original view', 'home', 'home'), ('Back', 'Back to previous …"
      ]
     },
     "metadata": {},
     "output_type": "display_data"
    }
   ],
   "source": [
    "import matplotlib.pyplot as pl\n",
    "pl.figure()\n",
    "for compartment, timeseries in result.items():\n",
    "    pl.plot(t, timeseries, label=compartment)\n",
    "pl.xlabel(r\"time $t\\times\\rho$\")\n",
    "pl.ylabel(\"frequency\")\n",
    "pl.ylim([0,1])\n",
    "pl.legend()\n",
    "pl.gcf().tight_layout()"
   ]
  },
  {
   "cell_type": "code",
   "execution_count": 13,
   "metadata": {},
   "outputs": [
    {
     "data": {
      "text/plain": [
       "<epipack.stochastic_epi_models.StochasticEpiModel at 0x15d253be0>"
      ]
     },
     "execution_count": 13,
     "metadata": {},
     "output_type": "execute_result"
    }
   ],
   "source": [
    "import networkx as nx\n",
    "\n",
    "k0 = 50\n",
    "eta = R0 * rho / k0\n",
    "N = int(1e4)\n",
    "edges = [ (e[0], e[1], 1.0) for e in nx.fast_gnp_random_graph(N,k0/(N-1)).edges() ]\n",
    "\n",
    "SIRS = StochasticEpiModel([S,I,R],N,edge_weight_tuples=edges)\n",
    "\n",
    "SIRS.set_link_transmission_processes([\n",
    "    #### transmission process ####\n",
    "    # I + S (eta)-> I + I\n",
    "    (I, S, eta, I, I),\n",
    "])\n",
    "    \n",
    "SIRS.set_node_transition_processes([\n",
    "    #### transition processes ####\n",
    "    # I (rho)-> R\n",
    "    # R (omega)-> S\n",
    "    (I, rho, R),\n",
    "    (R, omega, S),\n",
    "\n",
    "])\n",
    "\n",
    "SIRS.set_random_initial_conditions({S:N-int(1e-2*N), I:int(1e-2*N)})"
   ]
  },
  {
   "cell_type": "code",
   "execution_count": 14,
   "metadata": {},
   "outputs": [],
   "source": [
    "t_s, result_s = SIRS.simulate(40)"
   ]
  },
  {
   "cell_type": "code",
   "execution_count": 15,
   "metadata": {
    "scrolled": false
   },
   "outputs": [
    {
     "data": {
      "application/vnd.jupyter.widget-view+json": {
       "model_id": "a9b2610f452d4ff6bf482e8e4a872c98",
       "version_major": 2,
       "version_minor": 0
      },
      "text/plain": [
       "Canvas(toolbar=Toolbar(toolitems=[('Home', 'Reset original view', 'home', 'home'), ('Back', 'Back to previous …"
      ]
     },
     "metadata": {},
     "output_type": "display_data"
    }
   ],
   "source": [
    "pl.figure()\n",
    "\n",
    "for compartment, timeseries in result.items():\n",
    "    #pl.plot(t, timeseries, label=compartment)\n",
    "    pl.plot(t_s, result_s[compartment]/N, label=compartment+\" (sim.)\")\n",
    "pl.xlabel(r\"time $t\\times\\rho$\")\n",
    "pl.ylabel(\"frequency\")\n",
    "pl.ylim([0,1])\n",
    "pl.legend()\n",
    "pl.gcf().tight_layout()\n",
    "pl.show()"
   ]
  },
  {
   "cell_type": "code",
   "execution_count": null,
   "metadata": {},
   "outputs": [],
   "source": []
  }
 ],
 "metadata": {
  "kernelspec": {
   "display_name": "Python 3",
   "language": "python",
   "name": "python3"
  },
  "language_info": {
   "codemirror_mode": {
    "name": "ipython",
    "version": 3
   },
   "file_extension": ".py",
   "mimetype": "text/x-python",
   "name": "python",
   "nbconvert_exporter": "python",
   "pygments_lexer": "ipython3",
   "version": "3.8.9"
  }
 },
 "nbformat": 4,
 "nbformat_minor": 2
}
