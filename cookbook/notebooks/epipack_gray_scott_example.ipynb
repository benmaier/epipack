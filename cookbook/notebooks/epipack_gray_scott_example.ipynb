{
 "cells": [
  {
   "cell_type": "code",
   "execution_count": 1,
   "metadata": {},
   "outputs": [],
   "source": [
    "from epipack import SymbolicEpiModel\n",
    "import sympy as sy "
   ]
  },
  {
   "cell_type": "code",
   "execution_count": 2,
   "metadata": {},
   "outputs": [],
   "source": [
    "u, v, k, f = sy.symbols(\"u v k f\")"
   ]
  },
  {
   "cell_type": "code",
   "execution_count": 3,
   "metadata": {},
   "outputs": [
    {
     "name": "stderr",
     "output_type": "stream",
     "text": [
      "/Users/bfmaier/Seafile/forschung/disease_dynamics/epipack/epipack/symbolic_epi_models.py:572: UserWarning: events do not sum to zero for each column:-f*u + f - v*(f + k)\n",
      "  warnings.warn(\"events do not sum to zero for each column:\" + str(test_sum))\n"
     ]
    },
    {
     "data": {
      "text/plain": [
       "<epipack.symbolic_epi_models.SymbolicEpiModel at 0x1647136d0>"
      ]
     },
     "execution_count": 3,
     "metadata": {},
     "output_type": "execute_result"
    }
   ],
   "source": [
    "GS = SymbolicEpiModel([u,v])\n",
    "\n",
    "GS.set_processes([\n",
    "    # third-order coupling\n",
    "    (u, v, v, v, v),\n",
    "    # birth and death\n",
    "    (None, f, u),\n",
    "    (u, f, None),\n",
    "    (v, f+k, None),\n",
    "],ignore_rate_position_checks=True)"
   ]
  },
  {
   "cell_type": "code",
   "execution_count": 4,
   "metadata": {
    "scrolled": true
   },
   "outputs": [
    {
     "data": {
      "text/latex": [
       "$\\displaystyle \\frac{d}{d t} u = - f u + f - u v^{2}$"
      ],
      "text/plain": [
       "<IPython.core.display.Math object>"
      ]
     },
     "metadata": {},
     "output_type": "display_data"
    },
    {
     "data": {
      "text/latex": [
       "$\\displaystyle \\frac{d}{d t} v = v \\left(- f - k + u v\\right)$"
      ],
      "text/plain": [
       "<IPython.core.display.Math object>"
      ]
     },
     "metadata": {},
     "output_type": "display_data"
    }
   ],
   "source": [
    "GS.ODEs_jupyter()"
   ]
  },
  {
   "cell_type": "code",
   "execution_count": 5,
   "metadata": {},
   "outputs": [
    {
     "data": {
      "text/latex": [
       "$\\displaystyle \\left\\{\\left( 1, \\  0\\right), \\left( - \\frac{- f + \\left(f + k\\right) \\left(\\frac{f}{2 \\left(f + k\\right)} - \\frac{\\sqrt{- f \\left(4 f^{2} + 8 f k - f + 4 k^{2}\\right)}}{2 \\left(f + k\\right)}\\right)}{f}, \\  \\frac{f}{2 \\left(f + k\\right)} - \\frac{\\sqrt{- f \\left(4 f^{2} + 8 f k - f + 4 k^{2}\\right)}}{2 \\left(f + k\\right)}\\right), \\left( - \\frac{- f + \\left(f + k\\right) \\left(\\frac{f}{2 \\left(f + k\\right)} + \\frac{\\sqrt{- f \\left(4 f^{2} + 8 f k - f + 4 k^{2}\\right)}}{2 \\left(f + k\\right)}\\right)}{f}, \\  \\frac{f}{2 \\left(f + k\\right)} + \\frac{\\sqrt{- f \\left(4 f^{2} + 8 f k - f + 4 k^{2}\\right)}}{2 \\left(f + k\\right)}\\right)\\right\\}$"
      ],
      "text/plain": [
       "FiniteSet((1, 0), (-(-f + (f + k)*(f/(2*(f + k)) - sqrt(-f*(4*f**2 + 8*f*k - f + 4*k**2))/(2*(f + k))))/f, f/(2*(f + k)) - sqrt(-f*(4*f**2 + 8*f*k - f + 4*k**2))/(2*(f + k))), (-(-f + (f + k)*(f/(2*(f + k)) + sqrt(-f*(4*f**2 + 8*f*k - f + 4*k**2))/(2*(f + k))))/f, f/(2*(f + k)) + sqrt(-f*(4*f**2 + 8*f*k - f + 4*k**2))/(2*(f + k))))"
      ]
     },
     "execution_count": 5,
     "metadata": {},
     "output_type": "execute_result"
    }
   ],
   "source": [
    "GS.find_fixed_points()"
   ]
  },
  {
   "cell_type": "code",
   "execution_count": 6,
   "metadata": {},
   "outputs": [
    {
     "data": {
      "text/latex": [
       "$\\displaystyle \\left[\\begin{matrix}- f - v^{2} & - 2 u v\\\\v^{2} & - f - k + 2 u v\\end{matrix}\\right]$"
      ],
      "text/plain": [
       "Matrix([\n",
       "[-f - v**2,         -2*u*v],\n",
       "[     v**2, -f - k + 2*u*v]])"
      ]
     },
     "execution_count": 6,
     "metadata": {},
     "output_type": "execute_result"
    }
   ],
   "source": [
    "GS.jacobian()"
   ]
  },
  {
   "cell_type": "code",
   "execution_count": 7,
   "metadata": {},
   "outputs": [
    {
     "data": {
      "text/plain": [
       "{-f: 1, -f - k: 1}"
      ]
     },
     "execution_count": 7,
     "metadata": {},
     "output_type": "execute_result"
    }
   ],
   "source": [
    "GS.get_eigenvalues_at_disease_free_state({\"u\":1})"
   ]
  },
  {
   "cell_type": "code",
   "execution_count": 8,
   "metadata": {
    "scrolled": true
   },
   "outputs": [
    {
     "name": "stdout",
     "output_type": "stream",
     "text": [
      "[Eq(Derivative(u, t), -f*u + f - u*v**2), Eq(Derivative(v, t), v*(-f - k + u*v))]\n",
      "\n",
      "FiniteSet((1, 0), (-(-f + (f + k)*(f/(2*(f + k)) - sqrt(-f*(4*f**2 + 8*f*k - f + 4*k**2))/(2*(f + k))))/f, f/(2*(f + k)) - sqrt(-f*(4*f**2 + 8*f*k - f + 4*k**2))/(2*(f + k))), (-(-f + (f + k)*(f/(2*(f + k)) + sqrt(-f*(4*f**2 + 8*f*k - f + 4*k**2))/(2*(f + k))))/f, f/(2*(f + k)) + sqrt(-f*(4*f**2 + 8*f*k - f + 4*k**2))/(2*(f + k))))\n",
      "\n",
      "Matrix([[-f - v**2, -2*u*v], [v**2, -f - k + 2*u*v]])\n",
      "\n",
      "{-f: 1, -f - k: 1}\n"
     ]
    }
   ],
   "source": [
    "print(GS.ODEs())\n",
    "print()\n",
    "print(GS.find_fixed_points())\n",
    "print()\n",
    "print(GS.jacobian())\n",
    "print()\n",
    "print(GS.get_eigenvalues_at_disease_free_state({\"u\":1}))"
   ]
  },
  {
   "cell_type": "code",
   "execution_count": null,
   "metadata": {},
   "outputs": [],
   "source": []
  }
 ],
 "metadata": {
  "kernelspec": {
   "display_name": "Python 3",
   "language": "python",
   "name": "python3"
  },
  "language_info": {
   "codemirror_mode": {
    "name": "ipython",
    "version": 3
   },
   "file_extension": ".py",
   "mimetype": "text/x-python",
   "name": "python",
   "nbconvert_exporter": "python",
   "pygments_lexer": "ipython3",
   "version": "3.8.9"
  }
 },
 "nbformat": 4,
 "nbformat_minor": 2
}
